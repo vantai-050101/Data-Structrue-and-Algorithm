{
  "nbformat": 4,
  "nbformat_minor": 0,
  "metadata": {
    "colab": {
      "name": "useColab.ipynb",
      "provenance": [],
      "collapsed_sections": [],
      "include_colab_link": true
    },
    "kernelspec": {
      "name": "python3",
      "display_name": "Python 3"
    }
  },
  "cells": [
    {
      "cell_type": "markdown",
      "metadata": {
        "id": "view-in-github",
        "colab_type": "text"
      },
      "source": [
        "<a href=\"https://colab.research.google.com/github/vantai-050101/Data-Structrue-and-Algorithm/blob/master/useColab1.ipynb\" target=\"_parent\"><img src=\"https://colab.research.google.com/assets/colab-badge.svg\" alt=\"Open In Colab\"/></a>"
      ]
    },
    {
      "cell_type": "code",
      "metadata": {
        "id": "oq1EJVrQwJbx",
        "colab_type": "code",
        "colab": {
          "base_uri": "https://localhost:8080/",
          "height": 84
        },
        "outputId": "613c3742-2008-4da9-d57b-c0f651f03555"
      },
      "source": [
        "name = input()\n",
        "print('Hi {}'.format(name))\n",
        "school = input('You are studying at = ')\n",
        "print('Wow, we are colleage.')\n",
        "age = input('How old are you = ')\n",
        "print('I am 25')"
      ],
      "execution_count": null,
      "outputs": [
        {
          "output_type": "stream",
          "text": [
            "Ford\n",
            "Hi Ford\n",
            "You are studying at = UIT\n",
            "Wow, we are colleage.\n"
          ],
          "name": "stdout"
        }
      ]
    }
  ]
}